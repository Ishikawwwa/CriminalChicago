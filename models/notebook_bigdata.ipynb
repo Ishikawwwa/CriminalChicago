{
  "nbformat": 4,
  "nbformat_minor": 0,
  "metadata": {
    "colab": {
      "provenance": []
    },
    "kernelspec": {
      "name": "python3",
      "display_name": "Python 3"
    },
    "language_info": {
      "name": "python"
    }
  },
  "cells": [
    {
      "cell_type": "code",
      "source": [
        "import zipfile\n",
        "\n",
        "with zipfile.ZipFile('/content/drive/MyDrive/archive.zip', 'r') as zip_ref:\n",
        "    zip_ref.extractall('destination_folder')"
      ],
      "metadata": {
        "id": "4QEIoFc4lZ--"
      },
      "execution_count": 3,
      "outputs": []
    },
    {
      "cell_type": "markdown",
      "source": [
        "reading data"
      ],
      "metadata": {
        "id": "_CvCRrnpfLam"
      }
    },
    {
      "cell_type": "code",
      "execution_count": 7,
      "metadata": {
        "colab": {
          "base_uri": "https://localhost:8080/"
        },
        "id": "kJnMx4uXiAxS",
        "outputId": "76702d0d-a5ce-4166-8dc5-f53e7227d1d5"
      },
      "outputs": [
        {
          "output_type": "stream",
          "name": "stdout",
          "text": [
            "<class 'pandas.core.frame.DataFrame'>\n",
            "Index: 6017767 entries, 0 to 1456713\n",
            "Data columns (total 23 columns):\n",
            " #   Column                Dtype  \n",
            "---  ------                -----  \n",
            " 0   Unnamed: 0            int64  \n",
            " 1   ID                    int64  \n",
            " 2   Case Number           object \n",
            " 3   Date                  object \n",
            " 4   Block                 object \n",
            " 5   IUCR                  object \n",
            " 6   Primary Type          object \n",
            " 7   Description           object \n",
            " 8   Location Description  object \n",
            " 9   Arrest                bool   \n",
            " 10  Domestic              bool   \n",
            " 11  Beat                  int64  \n",
            " 12  District              float64\n",
            " 13  Ward                  float64\n",
            " 14  Community Area        float64\n",
            " 15  FBI Code              object \n",
            " 16  X Coordinate          float64\n",
            " 17  Y Coordinate          float64\n",
            " 18  Year                  int64  \n",
            " 19  Updated On            object \n",
            " 20  Latitude              float64\n",
            " 21  Longitude             float64\n",
            " 22  Location              object \n",
            "dtypes: bool(2), float64(7), int64(4), object(10)\n",
            "memory usage: 1021.5+ MB\n"
          ]
        }
      ],
      "source": [
        "import numpy as np\n",
        "import pandas as pd\n",
        "import seaborn as sns\n",
        "import plotly.express as px\n",
        "import matplotlib.pyplot as plt\n",
        "import plotly.graph_objects as go\n",
        "\n",
        "import warnings\n",
        "warnings.filterwarnings('ignore')\n",
        "\n",
        "dataset = pd.concat(\n",
        "    [\n",
        "        pd.read_csv(\n",
        "            \"/content/destination_folder/Chicago_Crimes_2005_to_2007.csv\",\n",
        "            on_bad_lines='skip',\n",
        "        ),\n",
        "        pd.read_csv(\n",
        "            \"/content/destination_folder/Chicago_Crimes_2008_to_2011.csv\",\n",
        "            on_bad_lines='skip',\n",
        "        ),\n",
        "        pd.read_csv(\n",
        "            \"/content/destination_folder/Chicago_Crimes_2012_to_2017.csv\",\n",
        "            on_bad_lines='skip',\n",
        "        ),\n",
        "    ]\n",
        ")\n",
        "dataset.info()"
      ]
    },
    {
      "cell_type": "code",
      "source": [
        "dataset = dataset[:1500000]"
      ],
      "metadata": {
        "id": "BiKI3MfXkea5"
      },
      "execution_count": 8,
      "outputs": []
    },
    {
      "cell_type": "markdown",
      "source": [
        "Data preprocessing"
      ],
      "metadata": {
        "id": "2f2aOZ9TfHrf"
      }
    },
    {
      "cell_type": "code",
      "source": [
        "import pandas as pd\n",
        "from sklearn.preprocessing import LabelEncoder\n",
        "from sklearn.model_selection import train_test_split\n",
        "\n",
        "df = dataset.copy()\n",
        "\n",
        "df['ts'] = pd.to_datetime(df['Date'])\n",
        "\n",
        "df = df.sort_values(['District', 'ts'])\n",
        "\n",
        "df['ts_next'] = df.groupby('District')['ts'].shift(-1)\n",
        "\n",
        "df['label'] = (df['ts_next'] - df['ts']).dt.total_seconds()\n",
        "\n",
        "le_type = LabelEncoder()\n",
        "le_fbi = LabelEncoder()\n",
        "le_district = LabelEncoder()\n",
        "\n",
        "df['primary_type_enc'] = le_type.fit_transform(df['Primary Type'])\n",
        "df['fbi_code_enc'] = le_fbi.fit_transform(df['FBI Code'])\n",
        "\n",
        "df['District_str'] = df['District'].astype(str)\n",
        "df['district_enc'] = le_district.fit_transform(df['District_str'])\n",
        "\n",
        "base_features = ['primary_type_enc', 'fbi_code_enc', 'Arrest', 'Domestic', 'Beat', 'Ward', 'Community Area']\n",
        "\n",
        "df = df.dropna(subset=['label'])\n",
        "\n",
        "for lag in [1, 2, 3]:\n",
        "    shifted = df.groupby('district_enc')[base_features].shift(lag)\n",
        "    shifted.columns = [f'{col}_prev{lag}' for col in base_features]\n",
        "    df = pd.concat([df, shifted], axis=1)\n",
        "\n",
        "df = df.dropna(subset=[f'{col}_prev{lag}' for col in base_features for lag in [1, 2, 3]])\n",
        "\n",
        "def prepare_features(df):\n",
        "    X_cols = (\n",
        "        base_features +\n",
        "        ['district_enc'] +\n",
        "        [f'{col}_prev{lag}' for col in base_features for lag in [1, 2, 3]]\n",
        "    )\n",
        "    y_col = 'label'\n",
        "    return df[X_cols], df[y_col]\n",
        "\n",
        "X, y = prepare_features(df)\n",
        "\n"
      ],
      "metadata": {
        "id": "1u0k6E_hysjA"
      },
      "execution_count": 9,
      "outputs": []
    },
    {
      "cell_type": "markdown",
      "source": [
        "dropping Nulls"
      ],
      "metadata": {
        "id": "1Yz84tBNezOW"
      }
    },
    {
      "cell_type": "code",
      "source": [
        "X_train, X_test, y_train, y_test = train_test_split(X, y, test_size=0.2, random_state=42)"
      ],
      "metadata": {
        "id": "3AsU1Gi3absY"
      },
      "execution_count": 12,
      "outputs": []
    },
    {
      "cell_type": "code",
      "source": [
        "X_train.info()"
      ],
      "metadata": {
        "colab": {
          "base_uri": "https://localhost:8080/"
        },
        "id": "NlAqiChbTQNS",
        "outputId": "7e0793ed-f48f-4b71-8206-8de33a49aa14"
      },
      "execution_count": 9,
      "outputs": [
        {
          "output_type": "stream",
          "name": "stdout",
          "text": [
            "<class 'pandas.core.frame.DataFrame'>\n",
            "Index: 399676 entries, 147128 to 23435\n",
            "Data columns (total 29 columns):\n",
            " #   Column                  Non-Null Count   Dtype  \n",
            "---  ------                  --------------   -----  \n",
            " 0   primary_type_enc        399676 non-null  int64  \n",
            " 1   fbi_code_enc            399676 non-null  int64  \n",
            " 2   Arrest                  399676 non-null  bool   \n",
            " 3   Domestic                399676 non-null  bool   \n",
            " 4   Beat                    399676 non-null  int64  \n",
            " 5   Ward                    399676 non-null  float64\n",
            " 6   Community Area          399676 non-null  float64\n",
            " 7   district_enc            399676 non-null  int64  \n",
            " 8   primary_type_enc_prev1  399676 non-null  float64\n",
            " 9   primary_type_enc_prev2  399676 non-null  float64\n",
            " 10  primary_type_enc_prev3  399676 non-null  float64\n",
            " 11  fbi_code_enc_prev1      399676 non-null  float64\n",
            " 12  fbi_code_enc_prev2      399676 non-null  float64\n",
            " 13  fbi_code_enc_prev3      399676 non-null  float64\n",
            " 14  Arrest_prev1            399676 non-null  object \n",
            " 15  Arrest_prev2            399676 non-null  object \n",
            " 16  Arrest_prev3            399676 non-null  object \n",
            " 17  Domestic_prev1          399676 non-null  object \n",
            " 18  Domestic_prev2          399676 non-null  object \n",
            " 19  Domestic_prev3          399676 non-null  object \n",
            " 20  Beat_prev1              399676 non-null  float64\n",
            " 21  Beat_prev2              399676 non-null  float64\n",
            " 22  Beat_prev3              399676 non-null  float64\n",
            " 23  Ward_prev1              399676 non-null  float64\n",
            " 24  Ward_prev2              399676 non-null  float64\n",
            " 25  Ward_prev3              399676 non-null  float64\n",
            " 26  Community Area_prev1    399676 non-null  float64\n",
            " 27  Community Area_prev2    399676 non-null  float64\n",
            " 28  Community Area_prev3    399676 non-null  float64\n",
            "dtypes: bool(2), float64(17), int64(4), object(6)\n",
            "memory usage: 86.1+ MB\n"
          ]
        }
      ]
    },
    {
      "cell_type": "code",
      "source": [
        "y_train.info()"
      ],
      "metadata": {
        "colab": {
          "base_uri": "https://localhost:8080/"
        },
        "id": "oYFqWE7FCBIy",
        "outputId": "ac3a9b6e-46b3-4f2b-ab21-93cb3651c053"
      },
      "execution_count": 10,
      "outputs": [
        {
          "output_type": "stream",
          "name": "stdout",
          "text": [
            "<class 'pandas.core.series.Series'>\n",
            "Index: 399676 entries, 147128 to 23435\n",
            "Series name: label\n",
            "Non-Null Count   Dtype  \n",
            "--------------   -----  \n",
            "399676 non-null  float64\n",
            "dtypes: float64(1)\n",
            "memory usage: 6.1 MB\n"
          ]
        }
      ]
    },
    {
      "cell_type": "code",
      "source": [
        "y_train[:20]"
      ],
      "metadata": {
        "colab": {
          "base_uri": "https://localhost:8080/",
          "height": 711
        },
        "id": "Ek6HdCJri9zm",
        "outputId": "83d3e8c3-431b-4751-b17a-d360fb5bc829"
      },
      "execution_count": 23,
      "outputs": [
        {
          "output_type": "execute_result",
          "data": {
            "text/plain": [
              "6210     1800.0\n",
              "28553       0.0\n",
              "42146    1200.0\n",
              "52939       6.0\n",
              "80710    1800.0\n",
              "81295     420.0\n",
              "83406    1500.0\n",
              "45474     318.0\n",
              "69529     600.0\n",
              "43579    2400.0\n",
              "20343    1800.0\n",
              "50359    1342.0\n",
              "99925     831.0\n",
              "37750       0.0\n",
              "35852    9900.0\n",
              "3855     6300.0\n",
              "60925    1080.0\n",
              "61487    1200.0\n",
              "96228     562.0\n",
              "14855       0.0\n",
              "Name: label, dtype: float64"
            ],
            "text/html": [
              "<div>\n",
              "<style scoped>\n",
              "    .dataframe tbody tr th:only-of-type {\n",
              "        vertical-align: middle;\n",
              "    }\n",
              "\n",
              "    .dataframe tbody tr th {\n",
              "        vertical-align: top;\n",
              "    }\n",
              "\n",
              "    .dataframe thead th {\n",
              "        text-align: right;\n",
              "    }\n",
              "</style>\n",
              "<table border=\"1\" class=\"dataframe\">\n",
              "  <thead>\n",
              "    <tr style=\"text-align: right;\">\n",
              "      <th></th>\n",
              "      <th>label</th>\n",
              "    </tr>\n",
              "  </thead>\n",
              "  <tbody>\n",
              "    <tr>\n",
              "      <th>6210</th>\n",
              "      <td>1800.0</td>\n",
              "    </tr>\n",
              "    <tr>\n",
              "      <th>28553</th>\n",
              "      <td>0.0</td>\n",
              "    </tr>\n",
              "    <tr>\n",
              "      <th>42146</th>\n",
              "      <td>1200.0</td>\n",
              "    </tr>\n",
              "    <tr>\n",
              "      <th>52939</th>\n",
              "      <td>6.0</td>\n",
              "    </tr>\n",
              "    <tr>\n",
              "      <th>80710</th>\n",
              "      <td>1800.0</td>\n",
              "    </tr>\n",
              "    <tr>\n",
              "      <th>81295</th>\n",
              "      <td>420.0</td>\n",
              "    </tr>\n",
              "    <tr>\n",
              "      <th>83406</th>\n",
              "      <td>1500.0</td>\n",
              "    </tr>\n",
              "    <tr>\n",
              "      <th>45474</th>\n",
              "      <td>318.0</td>\n",
              "    </tr>\n",
              "    <tr>\n",
              "      <th>69529</th>\n",
              "      <td>600.0</td>\n",
              "    </tr>\n",
              "    <tr>\n",
              "      <th>43579</th>\n",
              "      <td>2400.0</td>\n",
              "    </tr>\n",
              "    <tr>\n",
              "      <th>20343</th>\n",
              "      <td>1800.0</td>\n",
              "    </tr>\n",
              "    <tr>\n",
              "      <th>50359</th>\n",
              "      <td>1342.0</td>\n",
              "    </tr>\n",
              "    <tr>\n",
              "      <th>99925</th>\n",
              "      <td>831.0</td>\n",
              "    </tr>\n",
              "    <tr>\n",
              "      <th>37750</th>\n",
              "      <td>0.0</td>\n",
              "    </tr>\n",
              "    <tr>\n",
              "      <th>35852</th>\n",
              "      <td>9900.0</td>\n",
              "    </tr>\n",
              "    <tr>\n",
              "      <th>3855</th>\n",
              "      <td>6300.0</td>\n",
              "    </tr>\n",
              "    <tr>\n",
              "      <th>60925</th>\n",
              "      <td>1080.0</td>\n",
              "    </tr>\n",
              "    <tr>\n",
              "      <th>61487</th>\n",
              "      <td>1200.0</td>\n",
              "    </tr>\n",
              "    <tr>\n",
              "      <th>96228</th>\n",
              "      <td>562.0</td>\n",
              "    </tr>\n",
              "    <tr>\n",
              "      <th>14855</th>\n",
              "      <td>0.0</td>\n",
              "    </tr>\n",
              "  </tbody>\n",
              "</table>\n",
              "</div><br><label><b>dtype:</b> float64</label>"
            ]
          },
          "metadata": {},
          "execution_count": 23
        }
      ]
    },
    {
      "cell_type": "markdown",
      "source": [
        "## Linear regression"
      ],
      "metadata": {
        "id": "D8xhuBjOA4AZ"
      }
    },
    {
      "cell_type": "code",
      "source": [
        "from sklearn.linear_model import Ridge\n",
        "from sklearn.model_selection import GridSearchCV\n",
        "from sklearn.metrics import mean_absolute_error, r2_score\n",
        "import numpy as np\n",
        "\n",
        "param_grid = {\n",
        "    'alpha': [0.001, 0.01, 0.1, 1.0, 10.0, 100.0, 200]\n",
        "}\n",
        "\n",
        "ridge = Ridge()\n",
        "\n",
        "grid_search = GridSearchCV(\n",
        "    estimator=ridge,\n",
        "    param_grid=param_grid,\n",
        "    cv=5,\n",
        "    scoring='neg_mean_absolute_error',\n",
        "    n_jobs=-1\n",
        ")\n",
        "\n",
        "grid_search.fit(X_train, y_train)\n",
        "\n",
        "best_params = grid_search.best_params_\n",
        "best_model = grid_search.best_estimator_\n",
        "\n",
        "y_pred_train = best_model.predict(X_train)\n",
        "y_pred_test = best_model.predict(X_test)\n",
        "\n",
        "train_r2 = r2_score(y_train, y_pred_train)\n",
        "test_r2 = r2_score(y_test, y_pred_test)\n",
        "train_mae = mean_absolute_error(y_train, y_pred_train)\n",
        "test_mae = mean_absolute_error(y_test, y_pred_test)\n",
        "\n",
        "print(\"Best parameters:\", best_params)\n",
        "print(f\"Train R²:  {train_r2:.4f}\")\n",
        "print(f\"Train MAE: {train_mae:.4f} seconds\")\n",
        "print(f\"Test  R²:  {test_r2:.4f}\")\n",
        "print(f\"Test  MAE: {test_mae:.4f} seconds\")\n",
        "\n",
        "print(\"\\nCross-validation results:\")\n",
        "for mean_score, std_score, params in zip(\n",
        "    grid_search.cv_results_['mean_test_score'],\n",
        "    grid_search.cv_results_['std_test_score'],\n",
        "    grid_search.cv_results_['params']\n",
        "):\n",
        "    print(f\"alpha={params['alpha']:.2f}: {mean_score:.4f} (+/-{std_score:.4f})\")"
      ],
      "metadata": {
        "colab": {
          "base_uri": "https://localhost:8080/"
        },
        "id": "zbQNgSCXEPL0",
        "outputId": "dd32b46d-48f0-42bf-f121-850bf154f681"
      },
      "execution_count": 16,
      "outputs": [
        {
          "output_type": "stream",
          "name": "stdout",
          "text": [
            "Best parameters: {'alpha': 200}\n",
            "Train R²:  0.0039\n",
            "Train MAE: 15440.6761 seconds\n",
            "Test  R²:  0.0037\n",
            "Test  MAE: 14117.2357 seconds\n",
            "\n",
            "Cross-validation results:\n",
            "alpha=0.00: -15492.4830 (+/-518.9453)\n",
            "alpha=0.01: -15492.4822 (+/-518.9454)\n",
            "alpha=0.10: -15492.4742 (+/-518.9459)\n",
            "alpha=1.00: -15492.3947 (+/-518.9505)\n",
            "alpha=10.00: -15491.6010 (+/-518.9970)\n",
            "alpha=100.00: -15483.7897 (+/-519.4457)\n",
            "alpha=200.00: -15475.3545 (+/-519.9323)\n"
          ]
        }
      ]
    },
    {
      "cell_type": "markdown",
      "source": [
        "## Random forest"
      ],
      "metadata": {
        "id": "iaDsiaNbNyji"
      }
    },
    {
      "cell_type": "code",
      "source": [
        "from sklearn.ensemble import RandomForestRegressor\n",
        "from sklearn.metrics import mean_absolute_error, r2_score\n",
        "import numpy as np\n",
        "import pandas as pd\n",
        "from sklearn.model_selection import train_test_split\n",
        "from sklearn.preprocessing import StandardScaler\n",
        "\n",
        "scaler = StandardScaler()\n",
        "X_train = scaler.fit_transform(X_train)\n",
        "X_test = scaler.transform(X_test)\n",
        "\n",
        "\n",
        "rf = RandomForestRegressor(n_estimators=100,\n",
        "                             max_depth=5,\n",
        "                             min_samples_split=2,\n",
        "                             min_samples_leaf=1,\n",
        "                             random_state=42)\n",
        "\n",
        "rf.fit(X_train, y_train)\n",
        "\n",
        "\n",
        "y_pred_train = rf.predict(X_train)\n",
        "y_pred_test = rf.predict(X_test)\n",
        "\n",
        "train_r2 = r2_score(y_train, y_pred_train)\n",
        "test_r2 = r2_score(y_test, y_pred_test)\n",
        "train_mae = mean_absolute_error(y_train, y_pred_train)\n",
        "test_mae = mean_absolute_error(y_test, y_pred_test)\n",
        "\n",
        "print(\"Random Forest Regression:\")\n",
        "print(f\"Train R²:  {train_r2:.4f}\")\n",
        "print(f\"Train MAE: {train_mae:.4f} seconds\")\n",
        "print(f\"Test  R²:  {test_r2:.4f}\")\n",
        "print(f\"Test  MAE: {test_mae:.4f} seconds\")"
      ],
      "metadata": {
        "colab": {
          "base_uri": "https://localhost:8080/"
        },
        "id": "FL9LdWW_HOgm",
        "outputId": "c8dedd01-7282-4b55-e4df-d1241dc824ee"
      },
      "execution_count": 130,
      "outputs": [
        {
          "output_type": "stream",
          "name": "stdout",
          "text": [
            "Random Forest Regression:\n",
            "Train R²:  0.6821\n",
            "Train MAE: 1921.4928 seconds\n",
            "Test  R²:  0.0577\n",
            "Test  MAE: 2352.1970 seconds\n"
          ]
        }
      ]
    },
    {
      "cell_type": "markdown",
      "source": [
        "## SVR"
      ],
      "metadata": {
        "id": "D7wzTH8UBtLO"
      }
    },
    {
      "cell_type": "code",
      "source": [
        "from sklearn.preprocessing import StandardScaler\n",
        "from sklearn.svm import SVR\n",
        "from sklearn.metrics import mean_absolute_error, mean_squared_error, r2_score\n",
        "\n",
        "scaler = StandardScaler()\n",
        "X_train_scaled = scaler.fit_transform(X_train)\n",
        "X_test_scaled = scaler.transform(X_test)\n",
        "\n",
        "svr = SVR()\n",
        "svr.fit(X_train_scaled, y_train)\n",
        "\n",
        "print(\"\\nSupport Vector Regression:\")\n",
        "print(\"Train R²:\", svr.score(X_train_scaled, y_train))\n",
        "print(\"Test  R²:\", svr.score(X_test_scaled, y_test))\n",
        "\n",
        "\n",
        "\n",
        "y_train_pred = svr.predict(X_train_scaled)\n",
        "y_test_pred = svr.predict(X_test_scaled)\n",
        "\n",
        "\n",
        "print(\"Train MAE:\", mean_absolute_error(y_train, y_train_pred))\n",
        "print(\"Test  MAE:\", mean_absolute_error(y_test, y_test_pred))"
      ],
      "metadata": {
        "colab": {
          "base_uri": "https://localhost:8080/"
        },
        "id": "bHigMvJpIy1X",
        "outputId": "ed27905e-d4ac-4ba7-ce07-de05c9f1e3a8"
      },
      "execution_count": 4,
      "outputs": [
        {
          "output_type": "stream",
          "name": "stdout",
          "text": [
            "\n",
            "Support Vector Regression:\n",
            "Train R²: -0.013025762904651295\n",
            "Test  R²: -0.017938046323558998\n",
            "Train MAE: 36990.68875229361\n",
            "Test  MAE: 35227.85355072754\n"
          ]
        }
      ]
    },
    {
      "cell_type": "markdown",
      "source": [
        "## LGBMRegressor"
      ],
      "metadata": {
        "id": "D86JTZrTBvN9"
      }
    },
    {
      "cell_type": "code",
      "source": [
        "from sklearn.preprocessing import StandardScaler\n",
        "from lightgbm import LGBMRegressor\n",
        "from sklearn.metrics import mean_absolute_error, mean_squared_error, r2_score\n",
        "\n",
        "scaler = StandardScaler()\n",
        "X_train_scaled = scaler.fit_transform(X_train)\n",
        "X_test_scaled = scaler.transform(X_test)\n",
        "\n",
        "lgbm = LGBMRegressor(random_state=42)\n",
        "lgbm.fit(X_train_scaled, y_train)\n",
        "\n",
        "print(\"\\nLightGBM Regression:\")\n",
        "print(\"Train R²:\", lgbm.score(X_train_scaled, y_train))\n",
        "print(\"Test  R²:\", lgbm.score(X_test_scaled, y_test))\n",
        "\n",
        "y_train_pred = lgbm.predict(X_train_scaled)\n",
        "y_test_pred = lgbm.predict(X_test_scaled)\n",
        "\n",
        "print(\"Train MAE:\", mean_absolute_error(y_train, y_train_pred))\n",
        "print(\"Test  MAE:\", mean_absolute_error(y_test, y_test_pred))"
      ],
      "metadata": {
        "colab": {
          "base_uri": "https://localhost:8080/"
        },
        "id": "QDwv2MUvvsUp",
        "outputId": "ea6a4d7d-8ba3-4097-e403-bcacaa4a8966"
      },
      "execution_count": 13,
      "outputs": [
        {
          "output_type": "stream",
          "name": "stdout",
          "text": [
            "[LightGBM] [Info] Auto-choosing row-wise multi-threading, the overhead of testing was 0.147150 seconds.\n",
            "You can set `force_row_wise=true` to remove the overhead.\n",
            "And if memory is not enough, you can set `force_col_wise=true`.\n",
            "[LightGBM] [Info] Total Bins 1778\n",
            "[LightGBM] [Info] Number of data points in the train set: 1199278, number of used features: 29\n",
            "[LightGBM] [Info] Start training from score 1402.918913\n",
            "\n",
            "LightGBM Regression:\n",
            "Train R²: 0.19983586567449585\n",
            "Test  R²: 0.012476158830656225\n",
            "Train MAE: 1630.8088551266335\n",
            "Test  MAE: 1724.0554284568427\n"
          ]
        }
      ]
    },
    {
      "cell_type": "code",
      "source": [
        "import pandas as pd\n",
        "import matplotlib.pyplot as plt\n",
        "\n",
        "importances = lgbm.feature_importances_\n",
        "feature_names = X_train.columns\n",
        "\n",
        "importance_df = pd.DataFrame({\n",
        "    'Feature': feature_names,\n",
        "    'Importance': importances\n",
        "}).sort_values(by='Importance', ascending=False)\n",
        "\n",
        "print(\"\\nTop 10 Most Important Features:\")\n",
        "print(importance_df.head(10))\n",
        "\n",
        "plt.figure(figsize=(10, 6))\n",
        "plt.barh(importance_df['Feature'][:20][::-1], importance_df['Importance'][:20][::-1])\n",
        "plt.xlabel(\"Feature Importance\")\n",
        "plt.title(\"Top 20 Feature Importances (LightGBM)\")\n",
        "plt.tight_layout()\n",
        "plt.show()\n"
      ],
      "metadata": {
        "colab": {
          "base_uri": "https://localhost:8080/",
          "height": 805
        },
        "id": "1XHeNIL5yRNV",
        "outputId": "6d6115b4-77d7-401e-8cd7-255c650230f2"
      },
      "execution_count": 14,
      "outputs": [
        {
          "output_type": "stream",
          "name": "stdout",
          "text": [
            "\n",
            "Top 10 Most Important Features:\n",
            "                   Feature  Importance\n",
            "12      fbi_code_enc_prev2         242\n",
            "1             fbi_code_enc         211\n",
            "13      fbi_code_enc_prev3         199\n",
            "6           Community Area         161\n",
            "11      fbi_code_enc_prev1         160\n",
            "28    Community Area_prev3         145\n",
            "24              Ward_prev2         135\n",
            "22              Beat_prev3         131\n",
            "9   primary_type_enc_prev2         130\n",
            "23              Ward_prev1         129\n"
          ]
        },
        {
          "output_type": "display_data",
          "data": {
            "text/plain": [
              "<Figure size 1000x600 with 1 Axes>"
            ],
            "image/png": "[encoded data removed]"
          },
          "metadata": {}
        }
      ]
    },
    {
      "cell_type": "markdown",
      "source": [
        "## LGBMRegressor + gridsearch"
      ],
      "metadata": {
        "id": "ZLI2Q6DMB89i"
      }
    },
    {
      "cell_type": "code",
      "source": [
        "from sklearn.preprocessing import StandardScaler\n",
        "from lightgbm import LGBMRegressor\n",
        "from sklearn.metrics import mean_absolute_error, mean_squared_error, r2_score\n",
        "from sklearn.model_selection import GridSearchCV\n",
        "import numpy as np\n",
        "\n",
        "scaler = StandardScaler()\n",
        "X_train_scaled = scaler.fit_transform(X_train)\n",
        "X_test_scaled = scaler.transform(X_test)\n",
        "\n",
        "lgbm = LGBMRegressor(random_state=42)\n",
        "\n",
        "param_grid = {\n",
        "    'num_leaves': [15, 31, 63],\n",
        "    'learning_rate': [0.01, 0.05, 0.1],\n",
        "    'n_estimators': [100, 200, 300],\n",
        "    'max_depth': [3, 5, 7]\n",
        "}\n",
        "\n",
        "grid_search = GridSearchCV(\n",
        "    estimator=lgbm,\n",
        "    param_grid=param_grid,\n",
        "    scoring='neg_mean_absolute_error',\n",
        "    cv=3,\n",
        "    verbose=2,\n",
        "    n_jobs=-1\n",
        ")\n",
        "\n",
        "grid_search.fit(X_train_scaled, y_train)\n",
        "\n",
        "best_lgbm = grid_search.best_estimator_\n",
        "\n",
        "print(\"\\nBest parameters found:\")\n",
        "print(grid_search.best_params_)\n",
        "\n",
        "print(\"\\nLightGBM Regression (Optimized):\")\n",
        "print(\"Train R²:\", best_lgbm.score(X_train_scaled, y_train))\n",
        "print(\"Test  R²:\", best_lgbm.score(X_test_scaled, y_test))\n",
        "\n",
        "y_train_pred = best_lgbm.predict(X_train_scaled)\n",
        "y_test_pred = best_lgbm.predict(X_test_scaled)\n",
        "\n",
        "print(\"\\nTraining Metrics:\")\n",
        "print(\"MAE:\", mean_absolute_error(y_train, y_train_pred))\n",
        "print(\"RMSE:\", np.sqrt(mean_squared_error(y_train, y_train_pred)))\n",
        "print(\"R²:\", r2_score(y_train, y_train_pred))\n",
        "\n",
        "print(\"\\nTest Metrics:\")\n",
        "print(\"MAE:\", mean_absolute_error(y_test, y_test_pred))\n",
        "print(\"RMSE:\", np.sqrt(mean_squared_error(y_test, y_test_pred)))\n",
        "print(\"R²:\", r2_score(y_test, y_test_pred))\n",
        "\n",
        "print(\"\\nFeature Importances:\")\n",
        "for feat, imp in sorted(zip(X_train.columns, best_lgbm.feature_importances_),\n",
        "                      key=lambdaFitting 3 folds for each of 81 candidates, totalling 243 fits\n",
        "\n",
        " x: -x[1]):\n",
        "    print(f\"{feat}: {imp}\")"
      ],
      "metadata": {
        "colab": {
          "base_uri": "https://localhost:8080/",
          "height": 1000
        },
        "id": "eeS2uRvcgAw8",
        "outputId": "0bdd89be-342e-4e1e-f699-e352be028fce"
      },
      "execution_count": 134,
      "outputs": [
        {
          "output_type": "stream",
          "name": "stdout",
          "text": [
            "Fitting 3 folds for each of 81 candidates, totalling 243 fits\n",
            "[LightGBM] [Info] Auto-choosing col-wise multi-threading, the overhead of testing was 0.075166 seconds.\n",
            "You can set `force_col_wise=true` to remove the overhead.\n",
            "[LightGBM] [Info] Total Bins 2782\n",
            "[LightGBM] [Info] Number of data points in the train set: 100000, number of used features: 33\n",
            "[LightGBM] [Info] Start training from score 1661.240250\n",
            "[LightGBM] [Warning] No further splits with positive gain, best gain: -inf\n",
            "[LightGBM] [Warning] No further splits with positive gain, best gain: -inf\n",
            "[LightGBM] [Warning] No further splits with positive gain, best gain: -inf\n",
            "[LightGBM] [Warning] No further splits with positive gain, best gain: -inf\n",
            "[LightGBM] [Warning] No further splits with positive gain, best gain: -inf\n",
            "[LightGBM] [Warning] No further splits with positive gain, best gain: -inf\n",
            "[LightGBM] [Warning] No further splits with positive gain, best gain: -inf\n",
            "[LightGBM] [Warning] No further splits with positive gain, best gain: -inf\n",
            "[LightGBM] [Warning] No further splits with positive gain, best gain: -inf\n",
            "[LightGBM] [Warning] No further splits with positive gain, best gain: -inf\n",
            "[LightGBM] [Warning] No further splits with positive gain, best gain: -inf\n",
            "[LightGBM] [Warning] No further splits with positive gain, best gain: -inf\n",
            "[LightGBM] [Warning] No further splits with positive gain, best gain: -inf\n",
            "[LightGBM] [Warning] No further splits with positive gain, best gain: -inf\n",
            "[LightGBM] [Warning] No further splits with positive gain, best gain: -inf\n",
            "[LightGBM] [Warning] No further splits with positive gain, best gain: -inf\n",
            "[LightGBM] [Warning] No further splits with positive gain, best gain: -inf\n",
            "[LightGBM] [Warning] No further splits with positive gain, best gain: -inf\n",
            "[LightGBM] [Warning] No further splits with positive gain, best gain: -inf\n",
            "[LightGBM] [Warning] No further splits with positive gain, best gain: -inf\n",
            "[LightGBM] [Warning] No further splits with positive gain, best gain: -inf\n",
            "[LightGBM] [Warning] No further splits with positive gain, best gain: -inf\n",
            "[LightGBM] [Warning] No further splits with positive gain, best gain: -inf\n",
            "[LightGBM] [Warning] No further splits with positive gain, best gain: -inf\n",
            "[LightGBM] [Warning] No further splits with positive gain, best gain: -inf\n",
            "[LightGBM] [Warning] No further splits with positive gain, best gain: -inf\n",
            "[LightGBM] [Warning] No further splits with positive gain, best gain: -inf\n",
            "[LightGBM] [Warning] No further splits with positive gain, best gain: -inf\n",
            "[LightGBM] [Warning] No further splits with positive gain, best gain: -inf\n",
            "[LightGBM] [Warning] No further splits with positive gain, best gain: -inf\n",
            "[LightGBM] [Warning] No further splits with positive gain, best gain: -inf\n",
            "[LightGBM] [Warning] No further splits with positive gain, best gain: -inf\n",
            "[LightGBM] [Warning] No further splits with positive gain, best gain: -inf\n",
            "[LightGBM] [Warning] No further splits with positive gain, best gain: -inf\n",
            "[LightGBM] [Warning] No further splits with positive gain, best gain: -inf\n",
            "[LightGBM] [Warning] No further splits with positive gain, best gain: -inf\n",
            "[LightGBM] [Warning] No further splits with positive gain, best gain: -inf\n",
            "[LightGBM] [Warning] No further splits with positive gain, best gain: -inf\n",
            "[LightGBM] [Warning] No further splits with positive gain, best gain: -inf\n",
            "[LightGBM] [Warning] No further splits with positive gain, best gain: -inf\n",
            "[LightGBM] [Warning] No further splits with positive gain, best gain: -inf\n",
            "[LightGBM] [Warning] No further splits with positive gain, best gain: -inf\n",
            "[LightGBM] [Warning] No further splits with positive gain, best gain: -inf\n",
            "[LightGBM] [Warning] No further splits with positive gain, best gain: -inf\n",
            "[LightGBM] [Warning] No further splits with positive gain, best gain: -inf\n",
            "[LightGBM] [Warning] No further splits with positive gain, best gain: -inf\n",
            "[LightGBM] [Warning] No further splits with positive gain, best gain: -inf\n",
            "[LightGBM] [Warning] No further splits with positive gain, best gain: -inf\n",
            "[LightGBM] [Warning] No further splits with positive gain, best gain: -inf\n",
            "[LightGBM] [Warning] No further splits with positive gain, best gain: -inf\n",
            "[LightGBM] [Warning] No further splits with positive gain, best gain: -inf\n",
            "[LightGBM] [Warning] No further splits with positive gain, best gain: -inf\n",
            "[LightGBM] [Warning] No further splits with positive gain, best gain: -inf\n",
            "[LightGBM] [Warning] No further splits with positive gain, best gain: -inf\n",
            "[LightGBM] [Warning] No further splits with positive gain, best gain: -inf\n",
            "[LightGBM] [Warning] No further splits with positive gain, best gain: -inf\n",
            "[LightGBM] [Warning] No further splits with positive gain, best gain: -inf\n",
            "[LightGBM] [Warning] No further splits with positive gain, best gain: -inf\n",
            "[LightGBM] [Warning] No further splits with positive gain, best gain: -inf\n",
            "[LightGBM] [Warning] No further splits with positive gain, best gain: -inf\n",
            "[LightGBM] [Warning] No further splits with positive gain, best gain: -inf\n",
            "[LightGBM] [Warning] No further splits with positive gain, best gain: -inf\n",
            "[LightGBM] [Warning] No further splits with positive gain, best gain: -inf\n",
            "[LightGBM] [Warning] No further splits with positive gain, best gain: -inf\n",
            "[LightGBM] [Warning] No further splits with positive gain, best gain: -inf\n",
            "[LightGBM] [Warning] No further splits with positive gain, best gain: -inf\n",
            "[LightGBM] [Warning] No further splits with positive gain, best gain: -inf\n",
            "[LightGBM] [Warning] No further splits with positive gain, best gain: -inf\n",
            "[LightGBM] [Warning] No further splits with positive gain, best gain: -inf\n",
            "[LightGBM] [Warning] No further splits with positive gain, best gain: -inf\n",
            "[LightGBM] [Warning] No further splits with positive gain, best gain: -inf\n",
            "[LightGBM] [Warning] No further splits with positive gain, best gain: -inf\n",
            "[LightGBM] [Warning] No further splits with positive gain, best gain: -inf\n",
            "[LightGBM] [Warning] No further splits with positive gain, best gain: -inf\n",
            "[LightGBM] [Warning] No further splits with positive gain, best gain: -inf\n",
            "[LightGBM] [Warning] No further splits with positive gain, best gain: -inf\n",
            "[LightGBM] [Warning] No further splits with positive gain, best gain: -inf\n",
            "[LightGBM] [Warning] No further splits with positive gain, best gain: -inf\n",
            "[LightGBM] [Warning] No further splits with positive gain, best gain: -inf\n",
            "[LightGBM] [Warning] No further splits with positive gain, best gain: -inf\n",
            "[LightGBM] [Warning] No further splits with positive gain, best gain: -inf\n",
            "[LightGBM] [Warning] No further splits with positive gain, best gain: -inf\n",
            "[LightGBM] [Warning] No further splits with positive gain, best gain: -inf\n",
            "[LightGBM] [Warning] No further splits with positive gain, best gain: -inf\n",
            "[LightGBM] [Warning] No further splits with positive gain, best gain: -inf\n",
            "[LightGBM] [Warning] No further splits with positive gain, best gain: -inf\n",
            "[LightGBM] [Warning] No further splits with positive gain, best gain: -inf\n",
            "[LightGBM] [Warning] No further splits with positive gain, best gain: -inf\n",
            "[LightGBM] [Warning] No further splits with positive gain, best gain: -inf\n",
            "[LightGBM] [Warning] No further splits with positive gain, best gain: -inf\n",
            "[LightGBM] [Warning] No further splits with positive gain, best gain: -inf\n",
            "[LightGBM] [Warning] No further splits with positive gain, best gain: -inf\n",
            "[LightGBM] [Warning] No further splits with positive gain, best gain: -inf\n",
            "[LightGBM] [Warning] No further splits with positive gain, best gain: -inf\n",
            "[LightGBM] [Warning] No further splits with positive gain, best gain: -inf\n",
            "[LightGBM] [Warning] No further splits with positive gain, best gain: -inf\n",
            "[LightGBM] [Warning] No further splits with positive gain, best gain: -inf\n",
            "[LightGBM] [Warning] No further splits with positive gain, best gain: -inf\n",
            "[LightGBM] [Warning] No further splits with positive gain, best gain: -inf\n",
            "[LightGBM] [Warning] No further splits with positive gain, best gain: -inf\n",
            "[LightGBM] [Warning] No further splits with positive gain, best gain: -inf\n",
            "[LightGBM] [Warning] No further splits with positive gain, best gain: -inf\n",
            "[LightGBM] [Warning] No further splits with positive gain, best gain: -inf\n",
            "[LightGBM] [Warning] No further splits with positive gain, best gain: -inf\n",
            "[LightGBM] [Warning] No further splits with positive gain, best gain: -inf\n",
            "[LightGBM] [Warning] No further splits with positive gain, best gain: -inf\n",
            "[LightGBM] [Warning] No further splits with positive gain, best gain: -inf\n",
            "[LightGBM] [Warning] No further splits with positive gain, best gain: -inf\n",
            "[LightGBM] [Warning] No further splits with positive gain, best gain: -inf\n",
            "[LightGBM] [Warning] No further splits with positive gain, best gain: -inf\n",
            "[LightGBM] [Warning] No further splits with positive gain, best gain: -inf\n",
            "[LightGBM] [Warning] No further splits with positive gain, best gain: -inf\n",
            "[LightGBM] [Warning] No further splits with positive gain, best gain: -inf\n",
            "[LightGBM] [Warning] No further splits with positive gain, best gain: -inf\n",
            "[LightGBM] [Warning] No further splits with positive gain, best gain: -inf\n",
            "[LightGBM] [Warning] No further splits with positive gain, best gain: -inf\n",
            "[LightGBM] [Warning] No further splits with positive gain, best gain: -inf\n",
            "[LightGBM] [Warning] No further splits with positive gain, best gain: -inf\n",
            "[LightGBM] [Warning] No further splits with positive gain, best gain: -inf\n",
            "[LightGBM] [Warning] No further splits with positive gain, best gain: -inf\n",
            "[LightGBM] [Warning] No further splits with positive gain, best gain: -inf\n",
            "[LightGBM] [Warning] No further splits with positive gain, best gain: -inf\n",
            "[LightGBM] [Warning] No further splits with positive gain, best gain: -inf\n",
            "[LightGBM] [Warning] No further splits with positive gain, best gain: -inf\n",
            "[LightGBM] [Warning] No further splits with positive gain, best gain: -inf\n",
            "[LightGBM] [Warning] No further splits with positive gain, best gain: -inf\n",
            "[LightGBM] [Warning] No further splits with positive gain, best gain: -inf\n",
            "[LightGBM] [Warning] No further splits with positive gain, best gain: -inf\n",
            "[LightGBM] [Warning] No further splits with positive gain, best gain: -inf\n",
            "[LightGBM] [Warning] No further splits with positive gain, best gain: -inf\n",
            "[LightGBM] [Warning] No further splits with positive gain, best gain: -inf\n",
            "[LightGBM] [Warning] No further splits with positive gain, best gain: -inf\n",
            "[LightGBM] [Warning] No further splits with positive gain, best gain: -inf\n",
            "[LightGBM] [Warning] No further splits with positive gain, best gain: -inf\n",
            "[LightGBM] [Warning] No further splits with positive gain, best gain: -inf\n",
            "[LightGBM] [Warning] No further splits with positive gain, best gain: -inf\n",
            "[LightGBM] [Warning] No further splits with positive gain, best gain: -inf\n",
            "[LightGBM] [Warning] No further splits with positive gain, best gain: -inf\n",
            "[LightGBM] [Warning] No further splits with positive gain, best gain: -inf\n",
            "[LightGBM] [Warning] No further splits with positive gain, best gain: -inf\n",
            "[LightGBM] [Warning] No further splits with positive gain, best gain: -inf\n",
            "[LightGBM] [Warning] No further splits with positive gain, best gain: -inf\n",
            "[LightGBM] [Warning] No further splits with positive gain, best gain: -inf\n",
            "[LightGBM] [Warning] No further splits with positive gain, best gain: -inf\n",
            "[LightGBM] [Warning] No further splits with positive gain, best gain: -inf\n",
            "[LightGBM] [Warning] No further splits with positive gain, best gain: -inf\n",
            "[LightGBM] [Warning] No further splits with positive gain, best gain: -inf\n",
            "[LightGBM] [Warning] No further splits with positive gain, best gain: -inf\n",
            "[LightGBM] [Warning] No further splits with positive gain, best gain: -inf\n",
            "[LightGBM] [Warning] No further splits with positive gain, best gain: -inf\n",
            "[LightGBM] [Warning] No further splits with positive gain, best gain: -inf\n",
            "[LightGBM] [Warning] No further splits with positive gain, best gain: -inf\n",
            "[LightGBM] [Warning] No further splits with positive gain, best gain: -inf\n",
            "[LightGBM] [Warning] No further splits with positive gain, best gain: -inf\n",
            "[LightGBM] [Warning] No further splits with positive gain, best gain: -inf\n",
            "[LightGBM] [Warning] No further splits with positive gain, best gain: -inf\n",
            "[LightGBM] [Warning] No further splits with positive gain, best gain: -inf\n",
            "[LightGBM] [Warning] No further splits with positive gain, best gain: -inf\n",
            "[LightGBM] [Warning] No further splits with positive gain, best gain: -inf\n",
            "[LightGBM] [Warning] No further splits with positive gain, best gain: -inf\n",
            "[LightGBM] [Warning] No further splits with positive gain, best gain: -inf\n",
            "[LightGBM] [Warning] No further splits with positive gain, best gain: -inf\n",
            "[LightGBM] [Warning] No further splits with positive gain, best gain: -inf\n",
            "[LightGBM] [Warning] No further splits with positive gain, best gain: -inf\n",
            "[LightGBM] [Warning] No further splits with positive gain, best gain: -inf\n",
            "[LightGBM] [Warning] No further splits with positive gain, best gain: -inf\n",
            "[LightGBM] [Warning] No further splits with positive gain, best gain: -inf\n",
            "[LightGBM] [Warning] No further splits with positive gain, best gain: -inf\n",
            "[LightGBM] [Warning] No further splits with positive gain, best gain: -inf\n",
            "[LightGBM] [Warning] No further splits with positive gain, best gain: -inf\n",
            "[LightGBM] [Warning] No further splits with positive gain, best gain: -inf\n",
            "[LightGBM] [Warning] No further splits with positive gain, best gain: -inf\n",
            "[LightGBM] [Warning] No further splits with positive gain, best gain: -inf\n",
            "[LightGBM] [Warning] No further splits with positive gain, best gain: -inf\n",
            "[LightGBM] [Warning] No further splits with positive gain, best gain: -inf\n",
            "[LightGBM] [Warning] No further splits with positive gain, best gain: -inf\n",
            "[LightGBM] [Warning] No further splits with positive gain, best gain: -inf\n",
            "[LightGBM] [Warning] No further splits with positive gain, best gain: -inf\n",
            "[LightGBM] [Warning] No further splits with positive gain, best gain: -inf\n",
            "[LightGBM] [Warning] No further splits with positive gain, best gain: -inf\n",
            "[LightGBM] [Warning] No further splits with positive gain, best gain: -inf\n",
            "[LightGBM] [Warning] No further splits with positive gain, best gain: -inf\n",
            "[LightGBM] [Warning] No further splits with positive gain, best gain: -inf\n",
            "[LightGBM] [Warning] No further splits with positive gain, best gain: -inf\n",
            "[LightGBM] [Warning] No further splits with positive gain, best gain: -inf\n",
            "[LightGBM] [Warning] No further splits with positive gain, best gain: -inf\n",
            "[LightGBM] [Warning] No further splits with positive gain, best gain: -inf\n",
            "[LightGBM] [Warning] No further splits with positive gain, best gain: -inf\n",
            "[LightGBM] [Warning] No further splits with positive gain, best gain: -inf\n",
            "[LightGBM] [Warning] No further splits with positive gain, best gain: -inf\n",
            "[LightGBM] [Warning] No further splits with positive gain, best gain: -inf\n",
            "[LightGBM] [Warning] No further splits with positive gain, best gain: -inf\n",
            "[LightGBM] [Warning] No further splits with positive gain, best gain: -inf\n",
            "[LightGBM] [Warning] No further splits with positive gain, best gain: -inf\n",
            "[LightGBM] [Warning] No further splits with positive gain, best gain: -inf\n",
            "[LightGBM] [Warning] No further splits with positive gain, best gain: -inf\n",
            "[LightGBM] [Warning] No further splits with positive gain, best gain: -inf\n",
            "[LightGBM] [Warning] No further splits with positive gain, best gain: -inf\n",
            "[LightGBM] [Warning] No further splits with positive gain, best gain: -inf\n",
            "[LightGBM] [Warning] No further splits with positive gain, best gain: -inf\n",
            "\n",
            "Best parameters found:\n",
            "{'learning_rate': 0.01, 'max_depth': 7, 'n_estimators': 200, 'num_leaves': 63}\n",
            "\n",
            "LightGBM Regression (Optimized):\n",
            "Train R²: 0.32644020869810275\n",
            "Test  R²: 0.09219293314601495\n",
            "\n",
            "Training Metrics:\n",
            "MAE: 1942.9979503912505\n",
            "RMSE: 25189.30284441054\n",
            "R²: 0.32644020869810275\n",
            "\n",
            "Test Metrics:\n",
            "MAE: 2288.373143337793\n",
            "RMSE: 35858.54736877617\n",
            "R²: 0.09219293314601495\n",
            "\n",
            "Feature Importances:\n"
          ]
        },
        {
          "output_type": "error",
          "ename": "AttributeError",
          "evalue": "'numpy.ndarray' object has no attribute 'columns'",
          "traceback": [
            "\u001b[0;31m---------------------------------------------------------------------------\u001b[0m",
            "\u001b[0;31mAttributeError\u001b[0m                            Traceback (most recent call last)",
            "\u001b[0;32m<ipython-input-134-32bb02345621>\u001b[0m in \u001b[0;36m<cell line: 0>\u001b[0;34m()\u001b[0m\n\u001b[1;32m     52\u001b[0m \u001b[0;34m\u001b[0m\u001b[0m\n\u001b[1;32m     53\u001b[0m \u001b[0mprint\u001b[0m\u001b[0;34m(\u001b[0m\u001b[0;34m\"\\nFeature Importances:\"\u001b[0m\u001b[0;34m)\u001b[0m\u001b[0;34m\u001b[0m\u001b[0;34m\u001b[0m\u001b[0m\n\u001b[0;32m---> 54\u001b[0;31m for feat, imp in sorted(zip(X_train.columns, best_lgbm.feature_importances_), \n\u001b[0m\u001b[1;32m     55\u001b[0m                       key=lambda x: -x[1]):\n\u001b[1;32m     56\u001b[0m     \u001b[0mprint\u001b[0m\u001b[0;34m(\u001b[0m\u001b[0;34mf\"{feat}: {imp}\"\u001b[0m\u001b[0;34m)\u001b[0m\u001b[0;34m\u001b[0m\u001b[0;34m\u001b[0m\u001b[0m\n",
            "\u001b[0;31mAttributeError\u001b[0m: 'numpy.ndarray' object has no attribute 'columns'"
          ]
        }
      ]
    },
    {
      "cell_type": "code",
      "source": [],
      "metadata": {
        "id": "NxkXo9dd0KG4"
      },
      "execution_count": null,
      "outputs": []
    }
  ]
}