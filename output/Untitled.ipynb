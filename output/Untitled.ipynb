{
 "cells": [
  {
   "cell_type": "code",
   "execution_count": 3,
   "id": "c22f84eb-6217-433c-94ac-25cdc7a6f398",
   "metadata": {},
   "outputs": [
    {
     "ename": "ModuleNotFoundError",
     "evalue": "No module named 'pyhive'",
     "output_type": "error",
     "traceback": [
      "\u001b[31m---------------------------------------------------------------------------\u001b[39m",
      "\u001b[31mModuleNotFoundError\u001b[39m                       Traceback (most recent call last)",
      "\u001b[36mCell\u001b[39m\u001b[36m \u001b[39m\u001b[32mIn[7]\u001b[39m\u001b[32m, line 1\u001b[39m\n\u001b[32m----> \u001b[39m\u001b[32m1\u001b[39m \u001b[38;5;28;01mimport\u001b[39;00m\u001b[38;5;250m \u001b[39m\u001b[34;01mpyhive\u001b[39;00m\n\u001b[32m      2\u001b[39m \u001b[38;5;28;01mfrom\u001b[39;00m\u001b[38;5;250m \u001b[39m\u001b[34;01mpyhive\u001b[39;00m\u001b[38;5;250m \u001b[39m\u001b[38;5;28;01mimport\u001b[39;00m hive\n\u001b[32m      4\u001b[39m \u001b[38;5;66;03m# Replace with your actual Hive host info\u001b[39;00m\n",
      "\u001b[31mModuleNotFoundError\u001b[39m: No module named 'pyhive'"
     ]
    }
   ],
   "source": [
    "from pyhive import hive\n",
    "\n",
    "# Replace with your actual Hive host info\n",
    "conn = hive.Connection(host='hadoop-01.uni.innopolis.ru', port=10000, username='team16', database='default')\n",
    "\n",
    "cursor = conn.cursor()\n",
    "cursor.execute(\"SHOW DATABASES\")\n",
    "\n",
    "for db in cursor.fetchall():\n",
    "    print(db)\n"
   ]
  },
  {
   "cell_type": "code",
   "execution_count": 2,
   "id": "b8ae905f-9da3-4527-8f89-31f4a15e3da5",
   "metadata": {},
   "outputs": [
    {
     "name": "stdout",
     "output_type": "stream",
     "text": [
      "Defaulting to user installation because normal site-packages is not writeable\n",
      "Requirement already satisfied: pyhive in /usr/local/lib/python3.6/site-packages (0.6.5)\n",
      "Requirement already satisfied: python-dateutil in /usr/local/lib/python3.6/site-packages (from pyhive) (2.8.2)\n",
      "Requirement already satisfied: future in /usr/local/lib/python3.6/site-packages (from pyhive) (1.0.0)\n",
      "Requirement already satisfied: six>=1.5 in /usr/local/lib/python3.6/site-packages (from python-dateutil->pyhive) (1.16.0)\n"
     ]
    }
   ],
   "source": []
  },
  {
   "cell_type": "code",
   "execution_count": null,
   "id": "3013740b-722f-4353-bc1b-f65875fd0a5b",
   "metadata": {},
   "outputs": [],
   "source": []
  }
 ],
 "metadata": {
  "kernelspec": {
   "display_name": "Pyspark 3.11",
   "language": "python",
   "name": "python3.11"
  },
  "language_info": {
   "codemirror_mode": {
    "name": "ipython",
    "version": 3
   },
   "file_extension": ".py",
   "mimetype": "text/x-python",
   "name": "python",
   "nbconvert_exporter": "python",
   "pygments_lexer": "ipython3",
   "version": "3.11.7"
  }
 },
 "nbformat": 4,
 "nbformat_minor": 5
}
